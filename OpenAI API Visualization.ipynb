{
 "cells": [
  {
   "cell_type": "code",
   "execution_count": 1,
   "id": "eb88cb81-58e4-4ecc-9042-d17b57414622",
   "metadata": {},
   "outputs": [],
   "source": [
    "import openai\n",
    "import time"
   ]
  },
  {
   "cell_type": "code",
   "execution_count": 2,
   "id": "ec6c9ded-1a44-4e5e-837e-e9814ff5fed9",
   "metadata": {},
   "outputs": [],
   "source": [
    "def get_openai_api_key(file_path):\n",
    "    \"\"\"\n",
    "    Reads the OpenAI API key from a file.\n",
    "\n",
    "    Args:\n",
    "        file_path (str): The path to the file containing the API key.\n",
    "\n",
    "    Returns:\n",
    "        str: The API key.\n",
    "    \"\"\"\n",
    "    with open(file_path, 'r') as file:\n",
    "        api_key = file.read().strip()\n",
    "    return api_key"
   ]
  },
  {
   "cell_type": "code",
   "execution_count": 4,
   "id": "720fdbcb-4e97-4aad-92fb-29adb98c8ff7",
   "metadata": {},
   "outputs": [],
   "source": [
    "def generate_hello_world(api_key):\n",
    "    \"\"\"\n",
    "    Sends a prompt to ChatGPT to generate \"Hello, World!\".\n",
    "\n",
    "    Args:\n",
    "        api_key (str): The OpenAI API key.\n",
    "\n",
    "    Returns:\n",
    "        str: The response from ChatGPT.\n",
    "    \"\"\"\n",
    "    try:\n",
    "        # Instantiate the OpenAI client\n",
    "        client = openai.OpenAI(api_key=api_key)\n",
    "        \n",
    "        # Prepare the messages for the API request\n",
    "        messages = [\n",
    "            {\"role\": \"system\", \"content\": \"You are a helpful assistant.\"},\n",
    "            {\"role\": \"user\", \"content\": \"Say 'Hello, World!'\"}\n",
    "        ]\n",
    "        \n",
    "        # Send the request to the OpenAI API\n",
    "        response = client.chat.completions.create(\n",
    "            model=\"gpt-3.5-turbo\",\n",
    "            messages=messages\n",
    "        )\n",
    "        \n",
    "        # Extract the generated message from the response\n",
    "        message = response.choices[0].message.content.strip()\n",
    "        \n",
    "        return message\n",
    "\n",
    "    except Exception as e:\n",
    "        # Log the error in a digestible form\n",
    "        error_message = f\"An error occurred: {str(e)}\"\n",
    "        print(error_message)\n",
    "        return error_message\n"
   ]
  },
  {
   "cell_type": "code",
   "execution_count": 5,
   "id": "a6b8ec28-8810-4a18-b551-2ba8b1957e23",
   "metadata": {},
   "outputs": [
    {
     "name": "stdout",
     "output_type": "stream",
     "text": [
      "Hello, World! How can I assist you today?\n"
     ]
    }
   ],
   "source": [
    "def main():\n",
    "    \"\"\"\n",
    "    Main function to execute the script.\n",
    "    \"\"\"\n",
    "    api_key_file_path = 'Tableau/ISP/openai_api_key.txt'\n",
    "    \n",
    "    # Read the OpenAI API key from the file\n",
    "    api_key = get_openai_api_key(api_key_file_path)\n",
    "    \n",
    "    # Generate \"Hello, World!\" with ChatGPT using the API key\n",
    "    message = generate_hello_world(api_key)\n",
    "    \n",
    "    # Print the message\n",
    "    print(message)\n",
    "\n",
    "# Ensure the script is run as a main program\n",
    "if __name__ == \"__main__\":\n",
    "    main()"
   ]
  },
  {
   "cell_type": "code",
   "execution_count": null,
   "id": "10542bd9-d7c0-439d-98b4-3c383b698505",
   "metadata": {},
   "outputs": [],
   "source": []
  }
 ],
 "metadata": {
  "kernelspec": {
   "display_name": "Python 3 (ipykernel)",
   "language": "python",
   "name": "python3"
  },
  "language_info": {
   "codemirror_mode": {
    "name": "ipython",
    "version": 3
   },
   "file_extension": ".py",
   "mimetype": "text/x-python",
   "name": "python",
   "nbconvert_exporter": "python",
   "pygments_lexer": "ipython3",
   "version": "3.11.9"
  }
 },
 "nbformat": 4,
 "nbformat_minor": 5
}
